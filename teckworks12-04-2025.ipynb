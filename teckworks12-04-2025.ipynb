{
 "cells": [
  {
   "cell_type": "code",
   "execution_count": 17,
   "id": "70fb6230-dd48-4068-84f5-64e23f4aa9ae",
   "metadata": {},
   "outputs": [
    {
     "name": "stdout",
     "output_type": "stream",
     "text": [
      "34.5\n",
      "34\n",
      "<class 'str'>\n",
      "<class 'int'>\n",
      "23\n",
      "23\n",
      "<class 'str'>\n",
      "<class 'float'>\n",
      "245.6\n",
      "245.6\n",
      "<class 'int'>\n",
      "<class 'str'>\n",
      "90\n",
      "90\n"
     ]
    }
   ],
   "source": [
    "#type coversions\n",
    "# single line comment\n",
    "#float to int\n",
    "a=34.5\n",
    "b=int(a)\n",
    "print(a)\n",
    "print(b)\n",
    "\n",
    "#string to int\n",
    "c='23'\n",
    "d=int(c)\n",
    "print(type(c))\n",
    "print(type(d))\n",
    "print(c)\n",
    "print(d)\n",
    "\n",
    "#string to float\n",
    "f='245.6'\n",
    "g=float(f)\n",
    "print(type(f))\n",
    "print(type(g))\n",
    "print(f)\n",
    "print(g)\n",
    "\n",
    "#int to string\n",
    "i=90\n",
    "j=str(i)\n",
    "print(type(i))\n",
    "print(type(j))\n",
    "print(i)\n",
    "print(j)\n"
   ]
  },
  {
   "cell_type": "code",
   "execution_count": 22,
   "id": "b783fa9d-88c8-4e34-b98c-f6df180efb3d",
   "metadata": {},
   "outputs": [
    {
     "name": "stdin",
     "output_type": "stream",
     "text": [
      "Enter your Basic Salary :  50000\n"
     ]
    },
    {
     "name": "stdout",
     "output_type": "stream",
     "text": [
      "Your gross salary is :  137000.0\n"
     ]
    }
   ],
   "source": [
    "#Calculate the gross salary based on basic salary\"\n",
    "\n",
    "basic=int(input(\"Enter your Basic Salary : \"))\n",
    "if basic >=30000:\n",
    "    hra=(85*basic)/100\n",
    "    da=(89*basic)/100\n",
    "elif basic<=20000:\n",
    "    hra=(76*basic)/100\n",
    "    da=(78*basic)/100\n",
    "else:\n",
    "    hra=(79*basic)/100\n",
    "    da=(82*basic)/100\n",
    "gross=basic+hra+da\n",
    "print(\"Your gross salary is : \",gross)"
   ]
  },
  {
   "cell_type": "code",
   "execution_count": 3,
   "id": "36e9378e-9978-4348-b209-7d72850a69af",
   "metadata": {},
   "outputs": [
    {
     "name": "stdin",
     "output_type": "stream",
     "text": [
      "Enter your salary:  2500000\n"
     ]
    },
    {
     "name": "stdout",
     "output_type": "stream",
     "text": [
      "TDS: 115000.0\n"
     ]
    }
   ],
   "source": [
    "#calculation of TDS based on the basic salary\n",
    "\n",
    "salary=int(input(\"Enter your salary: \"))\n",
    "if salary<=500000:\n",
    "    tds=0\n",
    "elif salary <= 1000000:\n",
    "    if salary <= 700000:\n",
    "        tds=((salary-500000)*5)/100\n",
    "    else:\n",
    "        tds=((700000-500000)*5)/100+((salary-700000)*10)/100\n",
    "elif salary <= 2000000:\n",
    "    if salary <=1000000:\n",
    "        tds = ((700000-500000)*5)/100+((salary-700000)*10)/100\n",
    "    elif salary <= 1500000:\n",
    "        tds = ((700000-500000)*5)/100+((1000000-700000)*10)/100+((salary-1000000)*15)/100\n",
    "    else:\n",
    "        tds = ((700000-500000)*5)/100+((1000000-700000)*10)/100+((1500000-1000000)*15)/100+((salary-1500000)*20)/100\n",
    "else:\n",
    "    tds=((700000-500000)*5)/100+((1000000-700000)*10)/100+((1500000-1000000)*15)/100  \n",
    "    +((2000000-1500000)*20)/100+((salary-2000000)*30)/100\n",
    "\n",
    "print(\"TDS:\",tds)\n"
   ]
  },
  {
   "cell_type": "code",
   "execution_count": 4,
   "id": "e22df422-1208-4524-9166-90cd55438bba",
   "metadata": {},
   "outputs": [
    {
     "name": "stdin",
     "output_type": "stream",
     "text": [
      "Enter your amount : 10000\n"
     ]
    },
    {
     "name": "stdout",
     "output_type": "stream",
     "text": [
      "500 notes are 20\n"
     ]
    }
   ],
   "source": [
    "#ATM machine distribution of notes based on the amount\n",
    "five=0\n",
    "two=0\n",
    "one=0\n",
    "amount=int(input(\"Enter your amount :\"))\n",
    "if amount%100==0:\n",
    "    if amount>=500:\n",
    "        five=amount//500\n",
    "        print(\"500 notes are\",five)\n",
    "        amount=amount-(five*500)\n",
    "    if amount>=200:\n",
    "        two=amount//200\n",
    "        print(\"200 notes are\",two)\n",
    "        amount=amount-(two*200)\n",
    "    if amount>=100:\n",
    "        one=amount//100\n",
    "        print(\"100 notes are\",one)\n",
    "else:\n",
    "    print(\"Please enter multiples of 100 \")\n"
   ]
  },
  {
   "cell_type": "code",
   "execution_count": null,
   "id": "7aa2c6c5-87a4-4504-a654-e648a9811dd0",
   "metadata": {},
   "outputs": [],
   "source": []
  }
 ],
 "metadata": {
  "kernelspec": {
   "display_name": "Python 3 (ipykernel)",
   "language": "python",
   "name": "python3"
  },
  "language_info": {
   "codemirror_mode": {
    "name": "ipython",
    "version": 3
   },
   "file_extension": ".py",
   "mimetype": "text/x-python",
   "name": "python",
   "nbconvert_exporter": "python",
   "pygments_lexer": "ipython3",
   "version": "3.12.4"
  }
 },
 "nbformat": 4,
 "nbformat_minor": 5
}
