{
 "cells": [
  {
   "cell_type": "code",
   "execution_count": 12,
   "id": "457a3e22-6f37-43c7-9d24-db1b82ca60a1",
   "metadata": {},
   "outputs": [
    {
     "ename": "SyntaxError",
     "evalue": "incomplete input (1832999984.py, line 1)",
     "output_type": "error",
     "traceback": [
      "\u001b[1;36m  Cell \u001b[1;32mIn[12], line 1\u001b[1;36m\u001b[0m\n\u001b[1;33m    '''📌 1️⃣ Find the biggest value among three numbers\u001b[0m\n\u001b[1;37m    ^\u001b[0m\n\u001b[1;31mSyntaxError\u001b[0m\u001b[1;31m:\u001b[0m incomplete input\n"
     ]
    }
   ],
   "source": [
    "'''📌 1️⃣ Find the biggest value among three numbers\n",
    "Question:\n",
    "Write a program to input three different integers from the user. Now, instead of directly using the max() function, use conditional statements to determine and print the largest number. Think about how you can handle cases where two or more numbers might be equal and display an appropriate message.\n",
    "\n",
    "📌 2️⃣ Programs on Nested If\n",
    "Question 1:\n",
    "Take three sides of a triangle as input. Using nested if-else statements, check whether a triangle is possible or not, and if possible, determine whether it is an equilateral, isosceles, or scalene triangle.\n",
    "\n",
    "Question 2:\n",
    "Ask the user to enter marks for five subjects. Using nested if-else statements, determine the grade:\n",
    "\n",
    "90-100: A\n",
    "\n",
    "80-89: B\n",
    "\n",
    "70-79: C\n",
    "\n",
    "60-69: D\n",
    "If any subject has marks less than 35, display “Fail”.\n",
    "\n",
    "📌 3️⃣ Programs on Elif\n",
    "Question 1:\n",
    "Write a program that takes a number from the user and checks whether it’s positive, negative, or zero using if-elif-else statements.\n",
    "\n",
    "Question 2:\n",
    "Create a menu-driven program using elif:\n",
    "\n",
    "1 → Add two numbers\n",
    "\n",
    "2 → Subtract two numbers\n",
    "\n",
    "3 → Multiply two numbers\n",
    "\n",
    "4 → Divide two numbers\n",
    "Prompt the user for a choice and input numbers, then display the result based on the chosen option.\n",
    "\n",
    "Question 3:\n",
    "Take the day number (1-7) as input and display the day name (Monday to Sunday) using elif.\n",
    "\n"
   ]
  },
  {
   "cell_type": "code",
   "execution_count": 4,
   "id": "779b7992-19d2-4368-914e-687f40c7a81c",
   "metadata": {},
   "outputs": [
    {
     "name": "stdin",
     "output_type": "stream",
     "text": [
      "Enter num 2\n",
      "Enter num 3\n",
      "Enter num 6\n"
     ]
    },
    {
     "name": "stdout",
     "output_type": "stream",
     "text": [
      "c is greater\n"
     ]
    }
   ],
   "source": [
    "#Write a program to input three different integers from the user.\n",
    "#Now, instead of directly using the max() function, use conditional statements to determine and print the largest number. \n",
    "#Think about how you can handle cases where two or more numbers might be equal and display an appropriate message.\n",
    "a=int(input(\"Enter num\"))\n",
    "b=int(input(\"Enter num\"))\n",
    "c=int(input(\"Enter num\"))\n",
    "if a>b and a>c:\n",
    "    print(\" a is greater\")\n",
    "elif b>c:\n",
    "    print(\"b is greater\")\n",
    "else:\n",
    "    print(\"c is greater\")"
   ]
  },
  {
   "cell_type": "code",
   "execution_count": 8,
   "id": "5518b6f3-4fc0-498c-b47e-4442b1db68c7",
   "metadata": {},
   "outputs": [
    {
     "name": "stdin",
     "output_type": "stream",
     "text": [
      "Enter side a 5\n",
      "Enter side b 5\n",
      "Enter side c 5\n"
     ]
    },
    {
     "name": "stdout",
     "output_type": "stream",
     "text": [
      "triangle possible\n",
      "equilateral triangle\n"
     ]
    }
   ],
   "source": [
    "#Take three sides of a triangle as input. Using nested if-else statements, check whether a triangle is possible or not, and if possible, determine \n",
    "#whether it is an equilateral, isosceles, or scalene triangle.\n",
    "a=int(input(\"Enter side a\"))\n",
    "b=int(input(\"Enter side b\"))\n",
    "c=int(input(\"Enter side c\"))\n",
    "if a+b>c or a+c>b or b+c>a:\n",
    "    print(\"triangle possible\")\n",
    "    if a==b and b==c:\n",
    "        print(\"equilateral triangle\")\n",
    "    elif a==b or b==c or a==c:\n",
    "        print(\"isosceles triangle\")\n",
    "    else:\n",
    "        print(\"scalene triangle\")\n",
    "else:\n",
    "    print(\"Triangle not possible\")\n",
    "    "
   ]
  },
  {
   "cell_type": "code",
   "execution_count": 9,
   "id": "4ed4c097-271c-4df1-837a-d0100bb42b77",
   "metadata": {},
   "outputs": [
    {
     "name": "stdin",
     "output_type": "stream",
     "text": [
      "enter marks 45\n",
      "enter marks 78\n",
      "enter marks 90\n",
      "enter marks 99\n",
      "enter marks 67\n"
     ]
    },
    {
     "name": "stdout",
     "output_type": "stream",
     "text": [
      "s1 grade d\n",
      "s2 grade c\n",
      "s3 grade A\n",
      "s4 grade A\n",
      "s5 grade d\n"
     ]
    }
   ],
   "source": [
    "#Question 2:\n",
    "#Ask the user to enter marks for five subjects. Using nested if-else statements, determine the grade:\n",
    "#90-100: A\n",
    "\n",
    "#80-89: B\n",
    "\n",
    "#70-79: C\n",
    "\n",
    "#60-69: D\n",
    "#If any subject has marks less than 35, display “Fail”.\n",
    "s1=int(input(\"enter marks\"))\n",
    "s2=int(input(\"enter marks\"))\n",
    "s3=int(input(\"enter marks\"))\n",
    "s4=int(input(\"enter marks\"))\n",
    "s5=int(input(\"enter marks\"))\n",
    "if s1<35 and s2<35 and s3<35 and s4<35 and s5<35:\n",
    "    print(\"Fail\")\n",
    "else:\n",
    "    if s1>=90:\n",
    "        print(\"s1 grade A\")\n",
    "    elif s1>80:\n",
    "        print(\"s1 grade B\")\n",
    "    elif s1>70:\n",
    "            print(\"s1 grade c\")\n",
    "    else:\n",
    "            print(\"s1 grade d\")\n",
    "    \n",
    "    if s2>=90:\n",
    "        print(\"s2 grade A\")\n",
    "    elif s2>80:\n",
    "        print(\"s2 grade B\")\n",
    "    elif s2>70:\n",
    "        print(\"s2 grade c\")\n",
    "    else:\n",
    "        print(\"s2 grade d\")\n",
    "        \n",
    "    if s3>=90:\n",
    "        print(\"s3 grade A\")\n",
    "    elif s3>80:\n",
    "        print(\"s3 grade B\")\n",
    "    elif s3>70:\n",
    "        print(\"s3 grade c\")\n",
    "    else:\n",
    "        print(\"s3 grade d\")\n",
    "    \n",
    "    if s4>=90:\n",
    "        print(\"s4 grade A\")\n",
    "    elif s4>80:\n",
    "        print(\"s4 grade B\")\n",
    "    elif s4>70:\n",
    "        print(\"s4 grade c\")\n",
    "    else:\n",
    "        print(\"s4 grade d\")\n",
    "        \n",
    "    if s5>=90:\n",
    "        print(\"s5 grade A\")\n",
    "    elif s5>80:\n",
    "        print(\"s5 grade B\")\n",
    "    elif s5>70:\n",
    "        print(\"s5 grade c\")\n",
    "    else:\n",
    "        print(\"s5 grade d\")\n",
    "\n",
    "\n",
    "\n",
    "    \n",
    "    \n",
    "    \n"
   ]
  },
  {
   "cell_type": "code",
   "execution_count": 12,
   "id": "0981bada-57b7-4f62-b988-ef034ecf2480",
   "metadata": {},
   "outputs": [
    {
     "name": "stdin",
     "output_type": "stream",
     "text": [
      " -9\n"
     ]
    },
    {
     "name": "stdout",
     "output_type": "stream",
     "text": [
      "Negative\n"
     ]
    }
   ],
   "source": [
    "#3️⃣ Programs on Elif\n",
    "#Question 1:\n",
    "#Write a program that takes a number from the user and checks whether it’s positive, negative, or zero using if-elif-else statements.\n",
    "n=int(input())\n",
    "if n>0:\n",
    "    print(\"positive\")\n",
    "elif n==0:\n",
    "    print(\"Zero\")\n",
    "else:\n",
    "    print(\"Negative\")\n",
    "    "
   ]
  },
  {
   "cell_type": "code",
   "execution_count": 17,
   "id": "59ecddff-8b44-47d3-8c92-1fea95d6d4c0",
   "metadata": {},
   "outputs": [
    {
     "name": "stdin",
     "output_type": "stream",
     "text": [
      "1 - add\n",
      " 2 - sub\n",
      " 3 - mul\n",
      " 4 - div\n",
      " 2\n",
      "enter a 4\n",
      "enter b 2\n"
     ]
    },
    {
     "name": "stdout",
     "output_type": "stream",
     "text": [
      "2\n"
     ]
    }
   ],
   "source": [
    "#Question 2:\n",
    "#Create a menu-driven program using elif:\n",
    "\n",
    "#1 → Add two numbers\n",
    "\n",
    "#2 → Subtract two numbers\n",
    "\n",
    "#3 → Multiply two numbers\n",
    "\n",
    "#4 → Divide two numbers\n",
    "#Prompt the user for a choice and input numbers, then display the result based on the chosen option.\n",
    "\n",
    "n=int(input(\"1 - add\\n 2 - sub\\n 3 - mul\\n 4 - div\\n\"))\n",
    "a=int(input(\"enter a\"))\n",
    "b=int(input(\"enter b\"))\n",
    "if n==1:\n",
    "    print(a+b)\n",
    "elif n==2:\n",
    "    print(a-b)\n",
    "elif n==3:\n",
    "    print(a*b)\n",
    "elif n==4:\n",
    "    print(a/b)\n",
    "else:\n",
    "    print(\"wrong choice\")\n",
    "    "
   ]
  },
  {
   "cell_type": "code",
   "execution_count": 18,
   "id": "e9e00a8e-475f-464b-8b1d-ceae56a67a1c",
   "metadata": {},
   "outputs": [
    {
     "name": "stdin",
     "output_type": "stream",
     "text": [
      "Enter number 5\n"
     ]
    },
    {
     "name": "stdout",
     "output_type": "stream",
     "text": [
      "friday\n"
     ]
    }
   ],
   "source": [
    "#Question 3:\n",
    "#Take the day number (1-7) as input and display the day name (Monday to Sunday) using elif.\n",
    "n=int(input(\"Enter number\"))\n",
    "if n==1:\n",
    "    print(\"monday\")\n",
    "elif n==2:\n",
    "    print(\"tuesday\")\n",
    "elif n==3:\n",
    "    print(\"wednesday\")\n",
    "elif n==4:\n",
    "    print(\"thrusday\")\n",
    "elif n==5:\n",
    "    print(\"friday\")\n",
    "elif n==6:\n",
    "    print(\"sat\")\n",
    "elif n==7:\n",
    "    print(\"sunday\")\n",
    "else:\n",
    "    print(\"wrong choice\")"
   ]
  }
 ],
 "metadata": {
  "kernelspec": {
   "display_name": "Python 3 (ipykernel)",
   "language": "python",
   "name": "python3"
  },
  "language_info": {
   "codemirror_mode": {
    "name": "ipython",
    "version": 3
   },
   "file_extension": ".py",
   "mimetype": "text/x-python",
   "name": "python",
   "nbconvert_exporter": "python",
   "pygments_lexer": "ipython3",
   "version": "3.12.4"
  }
 },
 "nbformat": 4,
 "nbformat_minor": 5
}
