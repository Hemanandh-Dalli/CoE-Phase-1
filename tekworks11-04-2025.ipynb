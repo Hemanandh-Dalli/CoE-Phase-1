{
 "cells": [
  {
   "cell_type": "code",
   "execution_count": 14,
   "id": "75d7310e-ee4c-4cee-afbf-26f84be7d928",
   "metadata": {},
   "outputs": [
    {
     "name": "stdin",
     "output_type": "stream",
     "text": [
      "Internal Score 55\n",
      "External Score 60\n",
      "Project 70\n"
     ]
    }
   ],
   "source": [
    "internal=int(input(\"Internal Score\"))\n",
    "external=int(input(\"External Score\"))\n",
    "project=int(input(\"Project\"))\n"
   ]
  },
  {
   "cell_type": "code",
   "execution_count": 15,
   "id": "d9720b8e-b65f-4998-99de-b61e2dd128ef",
   "metadata": {},
   "outputs": [
    {
     "data": {
      "text/plain": [
       "55"
      ]
     },
     "execution_count": 15,
     "metadata": {},
     "output_type": "execute_result"
    }
   ],
   "source": [
    "internal"
   ]
  },
  {
   "cell_type": "code",
   "execution_count": 30,
   "id": "afd7d5a8-1eb6-4794-b415-5c8493f86442",
   "metadata": {},
   "outputs": [
    {
     "name": "stdout",
     "output_type": "stream",
     "text": [
      "Total score : 185\n",
      "Average : 66.5\n",
      "Grade is C\n"
     ]
    }
   ],
   "source": [
    "if internal>=50 and external >=50 and project >=50:\n",
    "    sum=internal+external+project\n",
    "    print(\"Total score :\",sum)\n",
    "    grade=((70/100*project) + (20/100*external) + (10/100*internal))\n",
    "    print(\"Average :\",grade)\n",
    "    if grade >=90:\n",
    "        print(\"Grade is A\")\n",
    "    elif grade >=70:\n",
    "        print(\"Grade is B\")\n",
    "    else:\n",
    "        print(\"Grade is C\")\n",
    "\n",
    "    \n"
   ]
  },
  {
   "cell_type": "code",
   "execution_count": 2,
   "id": "10cc0ed7-939f-4718-9291-44b648e7116f",
   "metadata": {},
   "outputs": [
    {
     "name": "stdout",
     "output_type": "stream",
     "text": [
      "1100\n",
      "423.0\n"
     ]
    }
   ],
   "source": [
    "prev=5400\n",
    "pres=6500\n",
    "n=pres-prev\n",
    "print(n)\n",
    "if n>=50:\n",
    "    c1=50*0.5\n",
    "    n=n-50\n",
    "    c2=if(n*0.75\n",
    "    n=n-100\n",
    "    c3=100*1.25\n",
    "    n=n-100\n",
    "    c4=n*2.50\n",
    "    print(18/100*(c1+c2+c3+c4))\n",
    "    "
   ]
  },
  {
   "cell_type": "code",
   "execution_count": 2,
   "id": "2f87060f-18a1-49ab-abd0-82c3706426b5",
   "metadata": {},
   "outputs": [
    {
     "name": "stdin",
     "output_type": "stream",
     "text": [
      "Enter Prev units 1500\n",
      "Enter Pres units 2000\n"
     ]
    }
   ],
   "source": [
    "prev=int(input(\"Enter Prev units\"))\n",
    "\n",
    "pres=int(input(\"Enter Pres units\"))\n",
    " \n",
    "units=pres-prev   \n",
    "\n",
    "bill=0\n",
    "\n",
    "if units<=50:\n",
    "\n",
    "    bill=units*0.50\n",
    "\n",
    "elif units<=150:\n",
    "\n",
    "    bill= 50*0.50+(units-50)*0.75\n",
    "\n",
    "elif units<=250:\n",
    "\n",
    "    bill=50*0.50+(100*0.75)+(units-150)*1.25\n",
    "\n",
    "else:\n",
    "\n",
    "    bill=50*0.50+(100*0.75)+(100*1.25)+(units-250)*2.50\n",
    " \n",
    " \n",
    "bill=bill+(bill*18)/100\n",
    " "
   ]
  },
  {
   "cell_type": "code",
   "execution_count": 3,
   "id": "7dfdb14a-d9ad-4d97-bb24-870b70d948f7",
   "metadata": {},
   "outputs": [
    {
     "data": {
      "text/plain": [
       "1003.0"
      ]
     },
     "execution_count": 3,
     "metadata": {},
     "output_type": "execute_result"
    }
   ],
   "source": [
    "bill\n"
   ]
  },
  {
   "cell_type": "code",
   "execution_count": 17,
   "id": "91f963c6-f075-414a-9b83-d274877ecb7f",
   "metadata": {},
   "outputs": [
    {
     "name": "stdin",
     "output_type": "stream",
     "text": [
      "Select your meal non veg\n",
      "Select the quantity 2\n",
      "is there any festival yes\n"
     ]
    },
    {
     "name": "stdout",
     "output_type": "stream",
     "text": [
      "360.0\n",
      "378.0\n"
     ]
    }
   ],
   "source": [
    "meals=input(\"Select your meal\")\n",
    "quan=int(input(\"Select the quantity\"))\n",
    "fest=input(\"is there any festival\")\n",
    "price=0\n",
    "if meals == \"veg\":\n",
    "    price=quan*150\n",
    "    if fest == \"yes\":\n",
    "        dis=price*(10/100)\n",
    "        price=price-dis\n",
    "        print(price)\n",
    "        \n",
    "    else:\n",
    "        print(price)\n",
    "elif meals == \"non veg\":\n",
    "    price=quan*200\n",
    "    if fest == \"yes\":\n",
    "        dis=price*(10/100)\n",
    "        price=price-dis\n",
    "        print(price)\n",
    "    else:\n",
    "        print(price)\n",
    "\n",
    "else :\n",
    "    price=quan*300\n",
    "    if fest == \"yes\":\n",
    "        dis=price*(10/100)\n",
    "        price=price-dis\n",
    "        print(price)\n",
    "    else:\n",
    "        print(price)\n",
    "if price>1000:\n",
    "    print(\"free dessert\")\n",
    "gst=(price*5)/100\n",
    "print(gst+price)\n",
    "\n",
    "    "
   ]
  },
  {
   "cell_type": "code",
   "execution_count": 24,
   "id": "cd2cee0d-3d25-44e0-9785-30d473b48f78",
   "metadata": {},
   "outputs": [
    {
     "name": "stdin",
     "output_type": "stream",
     "text": [
      "Enter Student Name : vikram\n",
      "Enter your 10th % :  70\n",
      "Enter your +2 % :  69\n",
      "Enter your UG % :  50\n",
      "Enter in LPA format eg: 3 6\n"
     ]
    },
    {
     "name": "stdout",
     "output_type": "stream",
     "text": [
      "NOT ELIGIBLE FOR SCHOLARSHIP\n"
     ]
    }
   ],
   "source": [
    "st=input(\"Enter Student Name :\")\n",
    "tenth = float(input(\"Enter your 10th % : \"))\n",
    "twelve = float(input(\"Enter your +2 % : \"))\n",
    "og = float(input(\"Enter your UG % : \"))\n",
    "family=float(input(\"Enter in LPA format eg: 3\"))\n",
    "if tenth >=85   and twelve >=85 and og >=85 and family<=3:\n",
    "    print(\"FULL SCHOLARSHIP\")\n",
    "elif og >=75 and family<=5:\n",
    "    print(\"PARTIAL SCHOLARSHIP\")\n",
    "else:\n",
    "    print(\"NOT ELIGIBLE FOR SCHOLARSHIP\")"
   ]
  },
  {
   "cell_type": "code",
   "execution_count": null,
   "id": "d3cf887a-c827-48b8-9324-856032fd5cbb",
   "metadata": {},
   "outputs": [],
   "source": []
  }
 ],
 "metadata": {
  "kernelspec": {
   "display_name": "Python 3 (ipykernel)",
   "language": "python",
   "name": "python3"
  },
  "language_info": {
   "codemirror_mode": {
    "name": "ipython",
    "version": 3
   },
   "file_extension": ".py",
   "mimetype": "text/x-python",
   "name": "python",
   "nbconvert_exporter": "python",
   "pygments_lexer": "ipython3",
   "version": "3.12.4"
  }
 },
 "nbformat": 4,
 "nbformat_minor": 5
}
