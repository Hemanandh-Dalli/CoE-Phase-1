{
 "cells": [
  {
   "cell_type": "code",
   "execution_count": 1,
   "id": "6596de6b-f192-4234-b81e-67368bcb8bec",
   "metadata": {},
   "outputs": [],
   "source": [
    "import keyword"
   ]
  },
  {
   "cell_type": "code",
   "execution_count": 2,
   "id": "c8f002d8-d523-4e1d-b798-19f4f6785d08",
   "metadata": {},
   "outputs": [
    {
     "name": "stdout",
     "output_type": "stream",
     "text": [
      "['False', 'None', 'True', 'and', 'as', 'assert', 'async', 'await', 'break', 'class', 'continue', 'def', 'del', 'elif', 'else', 'except', 'finally', 'for', 'from', 'global', 'if', 'import', 'in', 'is', 'lambda', 'nonlocal', 'not', 'or', 'pass', 'raise', 'return', 'try', 'while', 'with', 'yield']\n"
     ]
    }
   ],
   "source": [
    "print(keyword.kwlist)"
   ]
  },
  {
   "cell_type": "code",
   "execution_count": 3,
   "id": "fde4261d-90a9-454b-9532-8dc55bab0209",
   "metadata": {},
   "outputs": [
    {
     "data": {
      "text/plain": [
       "20"
      ]
     },
     "execution_count": 3,
     "metadata": {},
     "output_type": "execute_result"
    }
   ],
   "source": [
    "2*10"
   ]
  },
  {
   "cell_type": "code",
   "execution_count": 4,
   "id": "3fc7b5d7-2fa7-4336-8bc6-7e31dc4aa516",
   "metadata": {},
   "outputs": [
    {
     "data": {
      "text/plain": [
       "26"
      ]
     },
     "execution_count": 4,
     "metadata": {},
     "output_type": "execute_result"
    }
   ],
   "source": [
    "16+10"
   ]
  },
  {
   "cell_type": "code",
   "execution_count": 5,
   "id": "084eb7cd-ea2d-4268-8231-dae076abe4ca",
   "metadata": {},
   "outputs": [
    {
     "data": {
      "text/plain": [
       "8"
      ]
     },
     "execution_count": 5,
     "metadata": {},
     "output_type": "execute_result"
    }
   ],
   "source": [
    "2**3"
   ]
  },
  {
   "cell_type": "code",
   "execution_count": 6,
   "id": "f43cd6a6-7077-48e3-8431-9b588a0dbd74",
   "metadata": {},
   "outputs": [
    {
     "name": "stdout",
     "output_type": "stream",
     "text": [
      "<class 'int'>\n"
     ]
    }
   ],
   "source": [
    "a=10\n",
    "print(type(a))"
   ]
  },
  {
   "cell_type": "code",
   "execution_count": 7,
   "id": "977f2e75-cff4-4139-8924-2ce51441fe78",
   "metadata": {},
   "outputs": [
    {
     "data": {
      "text/plain": [
       "str"
      ]
     },
     "execution_count": 7,
     "metadata": {},
     "output_type": "execute_result"
    }
   ],
   "source": [
    "type('abc')"
   ]
  },
  {
   "cell_type": "code",
   "execution_count": 8,
   "id": "bad4cc26-bb7e-4b6b-a166-6d7c4682fa6d",
   "metadata": {},
   "outputs": [
    {
     "data": {
      "text/plain": [
       "float"
      ]
     },
     "execution_count": 8,
     "metadata": {},
     "output_type": "execute_result"
    }
   ],
   "source": [
    "type(10.2)"
   ]
  },
  {
   "cell_type": "code",
   "execution_count": 13,
   "id": "18868808-3528-44b0-a2cd-13b9c7a5255c",
   "metadata": {},
   "outputs": [
    {
     "name": "stdout",
     "output_type": "stream",
     "text": [
      "1  Arjun Sarkar1  Arjun Sarkar2  Arjun Sarkar3  Arjun Sarkar4/n"
     ]
    }
   ],
   "source": [
    "print(1,1,2,3,4,sep=\"  Arjun Sarkar\",end=\"/n\")"
   ]
  },
  {
   "cell_type": "code",
   "execution_count": 14,
   "id": "565f0188-fcd0-4559-975e-cec4452e8927",
   "metadata": {},
   "outputs": [
    {
     "name": "stdin",
     "output_type": "stream",
     "text": [
      "Emp Num 101\n",
      "Emp Name Karun\n",
      "Emp Sal 456.35\n"
     ]
    },
    {
     "name": "stdout",
     "output_type": "stream",
     "text": [
      "The Given Employee Number is:  101\n",
      "The Given Employee Name is:  Karun\n",
      "The Given Employee Salary is:  456.35\n"
     ]
    }
   ],
   "source": [
    "eno=input(\"Emp Num\")\n",
    "en=input(\"Emp Name\")\n",
    "es=input(\"Emp Sal\")\n",
    "print(\"The Given Employee Number is: \",eno)\n",
    "print(\"The Given Employee Name is: \",en)\n",
    "print(\"The Given Employee Salary is: \",es)"
   ]
  },
  {
   "cell_type": "code",
   "execution_count": 15,
   "id": "232c2655-7eef-4f6c-b7fb-c4f6ef624f8f",
   "metadata": {},
   "outputs": [
    {
     "data": {
      "text/plain": [
       "'101'"
      ]
     },
     "execution_count": 15,
     "metadata": {},
     "output_type": "execute_result"
    }
   ],
   "source": [
    "eno"
   ]
  },
  {
   "cell_type": "code",
   "execution_count": 16,
   "id": "5435c47a-71fc-4f37-9ea2-6f6769a672fd",
   "metadata": {},
   "outputs": [
    {
     "data": {
      "text/plain": [
       "str"
      ]
     },
     "execution_count": 16,
     "metadata": {},
     "output_type": "execute_result"
    }
   ],
   "source": [
    "type(eno)"
   ]
  },
  {
   "cell_type": "code",
   "execution_count": 23,
   "id": "b50f3262-9a7f-4495-8fb2-8a39df88e413",
   "metadata": {},
   "outputs": [
    {
     "name": "stdin",
     "output_type": "stream",
     "text": [
      "Enter num : 57\n",
      "Enter name : 67\n",
      "enter your s1 marks 585\n",
      "enter your s2 marks 685\n",
      "enter your s3 marks 585\n"
     ]
    },
    {
     "name": "stdout",
     "output_type": "stream",
     "text": [
      "Total Marks : 1855\n",
      "Total report : 618.3333333333334\n"
     ]
    }
   ],
   "source": [
    "num=input(\"Enter num :\") \n",
    "name=input(\"Enter name :\") \n",
    "s1=s2=s3=0 \n",
    "s1=int(input(\"enter your s1 marks\")) \n",
    "s2=int(input(\"enter your s2 marks\")) \n",
    "s3=int(input(\"enter your s3 marks\")) \n",
    "tot=s1+s2+s3\n",
    "avg=(s1+s2+s3)/3 \n",
    "print(\"Total Marks :\",tot)\n",
    "print(\"Total report :\",avg)\n",
    "\n"
   ]
  },
  {
   "cell_type": "markdown",
   "id": "6cecc4f8-d2dc-4492-adaa-0242c31f350b",
   "metadata": {},
   "source": [
    "\n"
   ]
  },
  {
   "cell_type": "code",
   "execution_count": 1,
   "id": "815d6759-7b30-4980-8948-22b2f6137cea",
   "metadata": {},
   "outputs": [
    {
     "data": {
      "text/plain": [
       "100"
      ]
     },
     "execution_count": 1,
     "metadata": {},
     "output_type": "execute_result"
    }
   ],
   "source": [
    "a=99.98765\n",
    "round(a)"
   ]
  },
  {
   "cell_type": "code",
   "execution_count": 2,
   "id": "b503ad53-0fa9-4348-871e-6d31eb911036",
   "metadata": {},
   "outputs": [
    {
     "data": {
      "text/plain": [
       "0.88"
      ]
     },
     "execution_count": 2,
     "metadata": {},
     "output_type": "execute_result"
    }
   ],
   "source": [
    "b=0.87676778376485673262\n",
    "\n",
    "round(b,2)"
   ]
  },
  {
   "cell_type": "code",
   "execution_count": 3,
   "id": "449c78d3-285f-49a8-899a-fb994b929d0d",
   "metadata": {},
   "outputs": [
    {
     "name": "stdin",
     "output_type": "stream",
     "text": [
      " 12\n",
      " 56\n"
     ]
    },
    {
     "name": "stdout",
     "output_type": "stream",
     "text": [
      "the greater value is : 56\n"
     ]
    }
   ],
   "source": [
    "a=int(input())\n",
    "b=int(input())\n",
    "if a>b:\n",
    "    print(\"the greater value is :\",a)\n",
    "else:\n",
    "    print(\"the greater value is :\",b)\n",
    "    "
   ]
  },
  {
   "cell_type": "code",
   "execution_count": 4,
   "id": "267a93d9-dc95-4df8-9f7a-dee079ffd033",
   "metadata": {},
   "outputs": [
    {
     "name": "stdin",
     "output_type": "stream",
     "text": [
      " 12\n"
     ]
    },
    {
     "name": "stdout",
     "output_type": "stream",
     "text": [
      "Even\n"
     ]
    }
   ],
   "source": [
    "#wap to check given num even or odd\n",
    "a=int(input())\n",
    "if a%2==0:\n",
    "    print(\"Even\")\n",
    "else:\n",
    "    print(\"odd\")"
   ]
  },
  {
   "cell_type": "code",
   "execution_count": 35,
   "id": "f5e89100-c74c-41b6-b407-f690f030a466",
   "metadata": {},
   "outputs": [],
   "source": [
    "#1 work find the big value of three numbers\n",
    "# 2 prgms on nested if\n",
    "# 3 prgms on elif\n",
    "# 3 prgms on while\n",
    "#2 prgms on for\n",
    "#1 tuple\n",
    "#1 str\n",
    "#1 list\n"
   ]
  },
  {
   "cell_type": "code",
   "execution_count": null,
   "id": "70986582-8f38-4c7b-acac-103bd23b2dd0",
   "metadata": {},
   "outputs": [],
   "source": []
  },
  {
   "cell_type": "code",
   "execution_count": 1,
   "id": "54608a8f-38c0-4fc5-b191-7a8aca4bc450",
   "metadata": {},
   "outputs": [
    {
     "name": "stdin",
     "output_type": "stream",
     "text": [
      "Enter the n value 100\n"
     ]
    },
    {
     "name": "stdout",
     "output_type": "stream",
     "text": [
      "0\t1\t2\t3\t4\t5\t6\t7\t8\t9\t10\t11\t12\t13\t14\t15\t16\t17\t18\t19\t20\t21\t22\t23\t24\t25\t26\t27\t28\t29\t30\t31\t32\t33\t34\t35\t36\t37\t38\t39\t40\t41\t42\t43\t44\t45\t46\t47\t48\t49\t50\t51\t52\t53\t54\t55\t56\t57\t58\t59\t60\t61\t62\t63\t64\t65\t66\t67\t68\t69\t70\t71\t72\t73\t74\t75\t76\t77\t78\t79\t80\t81\t82\t83\t84\t85\t86\t87\t88\t89\t90\t91\t92\t93\t94\t95\t96\t97\t98\t99\t100\t"
     ]
    }
   ],
   "source": [
    "#n natural numbers\n",
    "n=int(input(\"Enter the n value\"))\n",
    "i=0\n",
    "while i<=n:\n",
    "    print(i,sep=\" \",end=\"\\t\")\n",
    "    i=i+1"
   ]
  },
  {
   "cell_type": "code",
   "execution_count": 20,
   "id": "d5b2f4bd-6e35-4075-91c8-217fee62eb32",
   "metadata": {},
   "outputs": [
    {
     "name": "stdin",
     "output_type": "stream",
     "text": [
      "Enter the n value 100\n"
     ]
    },
    {
     "name": "stdout",
     "output_type": "stream",
     "text": [
      "0 2 4 6 8 10 12 14 16 18 20 22 24 26 28 30 32 34 36 38 40 42 44 46 48 50 52 54 56 58 60 62 64 66 68 70 72 74 76 78 80 82 84 86 88 90 92 94 96 98 100 "
     ]
    }
   ],
   "source": [
    "#even numbers upto n\n",
    "n=int(input(\"Enter the n value\"))\n",
    "i=0\n",
    "while i<=n:\n",
    "    if i%2==0:\n",
    "        print(i,sep=\" \",end=\" \")\n",
    "    i=i+1\n",
    "    "
   ]
  },
  {
   "cell_type": "code",
   "execution_count": 21,
   "id": "2e42ace4-6539-47fb-85d2-6470a517bb9a",
   "metadata": {},
   "outputs": [
    {
     "name": "stdin",
     "output_type": "stream",
     "text": [
      "Enter the n value 100\n"
     ]
    },
    {
     "name": "stdout",
     "output_type": "stream",
     "text": [
      "1 3 5 7 9 11 13 15 17 19 21 23 25 27 29 31 33 35 37 39 41 43 45 47 49 51 53 55 57 59 61 63 65 67 69 71 73 75 77 79 81 83 85 87 89 91 93 95 97 99 "
     ]
    }
   ],
   "source": [
    "#odd upto n\n",
    "n=int(input(\"Enter the n value\"))\n",
    "i=0\n",
    "while i<=n:\n",
    "    if i%2!=0:\n",
    "        print(i,sep=\" \",end=\" \")\n",
    "    i=i+1\n",
    "    "
   ]
  },
  {
   "cell_type": "code",
   "execution_count": 19,
   "id": "94f57fad-a909-4f01-bbe1-58b3f7f3b760",
   "metadata": {},
   "outputs": [
    {
     "name": "stdin",
     "output_type": "stream",
     "text": [
      "enter n: 5\n"
     ]
    },
    {
     "name": "stdout",
     "output_type": "stream",
     "text": [
      "5 x 1 = 5\n",
      "5 x 2 = 10\n",
      "5 x 3 = 15\n",
      "5 x 4 = 20\n",
      "5 x 5 = 25\n",
      "5 x 6 = 30\n",
      "5 x 7 = 35\n",
      "5 x 8 = 40\n",
      "5 x 9 = 45\n",
      "5 x 10 = 50\n"
     ]
    }
   ],
   "source": [
    "#wap to displat tables\n",
    "n=int(input(\"enter n:\"))\n",
    "for i in range (1,11):\n",
    "    print(n,\"x\" ,i ,\"=\", n*i)\n",
    "    "
   ]
  },
  {
   "cell_type": "code",
   "execution_count": 25,
   "id": "b6e2955d-fc7a-49c5-9c77-007bf2bc4641",
   "metadata": {},
   "outputs": [
    {
     "name": "stdin",
     "output_type": "stream",
     "text": [
      " 5\n"
     ]
    },
    {
     "name": "stdout",
     "output_type": "stream",
     "text": [
      "* \n",
      "* * \n",
      "* * * \n",
      "* * * * \n",
      "* * * * * \n"
     ]
    }
   ],
   "source": [
    "n=int(input())\n",
    "for i in range(1,n+1):\n",
    "    j=1\n",
    "    while j<=i:\n",
    "        print(\"*\",end=\" \")\n",
    "        j=j+1\n",
    "    print()\n",
    "    "
   ]
  },
  {
   "cell_type": "code",
   "execution_count": 27,
   "id": "e1ad96ab-f241-4d53-887d-e09026bc972e",
   "metadata": {},
   "outputs": [
    {
     "name": "stdin",
     "output_type": "stream",
     "text": [
      " 5\n"
     ]
    },
    {
     "name": "stdout",
     "output_type": "stream",
     "text": [
      "$ * * * $ \n",
      "* $ * $ * \n",
      "* * $ * * \n",
      "* $ * $ * \n",
      "$ * * * $ \n"
     ]
    }
   ],
   "source": [
    "n=int(input())\n",
    "for i in range(1,n+1):\n",
    "    for j in range(1,n+1):\n",
    "        if i==j or i+j==6:\n",
    "            print(\"$\",end=\" \")\n",
    "        else:\n",
    "            print(\"*\",end=\" \")\n",
    "    print()"
   ]
  },
  {
   "cell_type": "code",
   "execution_count": 18,
   "id": "1f790049-1c2d-42c2-a1fb-f930f306ee5e",
   "metadata": {},
   "outputs": [
    {
     "name": "stdout",
     "output_type": "stream",
     "text": [
      "The number is : 30\n"
     ]
    }
   ],
   "source": [
    "#ds\n",
    "#creating a list and index\n",
    "list=[10,20,30,40,50,60,70,80,90,100]\n",
    "list[2]\n",
    "print(\"The number is :\",list[2])"
   ]
  },
  {
   "cell_type": "code",
   "execution_count": 19,
   "id": "fb048fc4-f453-42e5-9601-3914072db753",
   "metadata": {},
   "outputs": [
    {
     "data": {
      "text/plain": [
       "90"
      ]
     },
     "execution_count": 19,
     "metadata": {},
     "output_type": "execute_result"
    }
   ],
   "source": [
    "#negative index\n",
    "list[-2]"
   ]
  },
  {
   "cell_type": "code",
   "execution_count": 20,
   "id": "b46f58ef-a867-4f29-a019-14a92eca5335",
   "metadata": {},
   "outputs": [
    {
     "data": {
      "text/plain": [
       "[20, 30, 40, 50, 60, 70]"
      ]
     },
     "execution_count": 20,
     "metadata": {},
     "output_type": "execute_result"
    }
   ],
   "source": [
    "#slicing\n",
    "list[1:7]"
   ]
  },
  {
   "cell_type": "code",
   "execution_count": 21,
   "id": "927b09d4-e019-4cc7-b9fe-5dbcb8853360",
   "metadata": {},
   "outputs": [
    {
     "data": {
      "text/plain": [
       "[50, 60, 70, 80, 90, 100]"
      ]
     },
     "execution_count": 21,
     "metadata": {},
     "output_type": "execute_result"
    }
   ],
   "source": [
    "#print till end\n",
    "list[4:]"
   ]
  },
  {
   "cell_type": "code",
   "execution_count": 24,
   "id": "74721a68-145a-4790-981f-b3bcadc7ae78",
   "metadata": {},
   "outputs": [
    {
     "data": {
      "text/plain": [
       "[10, 40, 50, 60, 70, 80, 90, 100]"
      ]
     },
     "execution_count": 24,
     "metadata": {},
     "output_type": "execute_result"
    }
   ],
   "source": [
    "list\n",
    "del list[1:3]\n",
    "list"
   ]
  },
  {
   "cell_type": "code",
   "execution_count": 26,
   "id": "96dfca34-d952-4356-8a0e-e1813d1c06eb",
   "metadata": {},
   "outputs": [
    {
     "data": {
      "text/plain": [
       "[1, 2, 3, 4, 5]"
      ]
     },
     "execution_count": 26,
     "metadata": {},
     "output_type": "execute_result"
    }
   ],
   "source": [
    "l1=[1,2,3,4]\n",
    "l1.append(5)\n",
    "l1"
   ]
  },
  {
   "cell_type": "code",
   "execution_count": 40,
   "id": "33954c21-f33c-4b67-8bbf-efbb4b30cd49",
   "metadata": {},
   "outputs": [
    {
     "name": "stdin",
     "output_type": "stream",
     "text": [
      "enter the number of values to enter in list 5\n",
      " 10\n",
      " 20\n",
      " hello\n",
      " hi\n",
      " 67\n"
     ]
    },
    {
     "data": {
      "text/plain": [
       "['10', '20', 'hello', 'hi', '67']"
      ]
     },
     "execution_count": 40,
     "metadata": {},
     "output_type": "execute_result"
    }
   ],
   "source": [
    "#taking input and store in list using append\n",
    "n=int(input(\"enter the number of values to enter in list\"))\n",
    "list=[]\n",
    "for i in range (n):\n",
    "    list.append(input())\n",
    "list"
   ]
  },
  {
   "cell_type": "code",
   "execution_count": 42,
   "id": "9fbf20c5-21a7-4cad-8db0-f2502bc54275",
   "metadata": {},
   "outputs": [
    {
     "data": {
      "text/plain": [
       "['10', '20', 'HELLO', 'hello', 'hi', '67']"
      ]
     },
     "execution_count": 42,
     "metadata": {},
     "output_type": "execute_result"
    }
   ],
   "source": [
    "#update the list using insert()\n",
    "list.insert(2,\"HELLO\")\n",
    "list"
   ]
  },
  {
   "cell_type": "code",
   "execution_count": 43,
   "id": "acbef3da-97bc-41db-a2cf-7c037d89c274",
   "metadata": {},
   "outputs": [
    {
     "name": "stdin",
     "output_type": "stream",
     "text": [
      "enter element to remove from list : 67\n"
     ]
    },
    {
     "data": {
      "text/plain": [
       "['10', '20', 'HELLO', 'hello', 'hi']"
      ]
     },
     "execution_count": 43,
     "metadata": {},
     "output_type": "execute_result"
    }
   ],
   "source": [
    "#remove the element\n",
    "r=input(\"enter element to remove from list :\")\n",
    "\n",
    "list.remove(r)\n",
    "list"
   ]
  },
  {
   "cell_type": "code",
   "execution_count": 44,
   "id": "c38c438a-61dc-40c1-a99c-a166799bdec9",
   "metadata": {},
   "outputs": [
    {
     "data": {
      "text/plain": [
       "['10', '20', 'hello', 'hi']"
      ]
     },
     "execution_count": 44,
     "metadata": {},
     "output_type": "execute_result"
    }
   ],
   "source": [
    "#pop using index\n",
    "list.pop(2)\n",
    "list"
   ]
  },
  {
   "cell_type": "code",
   "execution_count": 45,
   "id": "e10b87b9-6864-4a6d-905d-0fbf275fd4e1",
   "metadata": {},
   "outputs": [
    {
     "data": {
      "text/plain": [
       "['10', '20', 'hello']"
      ]
     },
     "execution_count": 45,
     "metadata": {},
     "output_type": "execute_result"
    }
   ],
   "source": [
    "#last element delete using pop\n",
    "list.pop()\n",
    "list"
   ]
  },
  {
   "cell_type": "code",
   "execution_count": 46,
   "id": "693bdfe8-bd89-4914-8c3a-8e496becb31a",
   "metadata": {},
   "outputs": [
    {
     "data": {
      "text/plain": [
       "[]"
      ]
     },
     "execution_count": 46,
     "metadata": {},
     "output_type": "execute_result"
    }
   ],
   "source": [
    "list.clear()\n",
    "list"
   ]
  },
  {
   "cell_type": "code",
   "execution_count": 47,
   "id": "45483293-a968-463c-9549-e92f22d62e97",
   "metadata": {},
   "outputs": [
    {
     "data": {
      "text/plain": [
       "1"
      ]
     },
     "execution_count": 47,
     "metadata": {},
     "output_type": "execute_result"
    }
   ],
   "source": [
    "#give index number of element\n",
    "list=[10,20,30,40,50,60,80]\n",
    "list.index(20)"
   ]
  },
  {
   "cell_type": "code",
   "execution_count": 48,
   "id": "b1900eb0-4b9a-4ef7-88ca-c8e64e2530c9",
   "metadata": {},
   "outputs": [
    {
     "data": {
      "text/plain": [
       "1"
      ]
     },
     "execution_count": 48,
     "metadata": {},
     "output_type": "execute_result"
    }
   ],
   "source": [
    "#count the element how many times it is repeated\n",
    "list.count(20)"
   ]
  },
  {
   "cell_type": "code",
   "execution_count": 3,
   "id": "3c7edb02-9900-451e-8d16-7fc86215bfcd",
   "metadata": {},
   "outputs": [
    {
     "ename": "TypeError",
     "evalue": "unbound method list.sort() needs an argument",
     "output_type": "error",
     "traceback": [
      "\u001b[1;31m---------------------------------------------------------------------------\u001b[0m",
      "\u001b[1;31mTypeError\u001b[0m                                 Traceback (most recent call last)",
      "Cell \u001b[1;32mIn[3], line 2\u001b[0m\n\u001b[0;32m      1\u001b[0m \u001b[38;5;66;03m#sort using sort()\u001b[39;00m\n\u001b[1;32m----> 2\u001b[0m \u001b[38;5;28mlist\u001b[39m\u001b[38;5;241m.\u001b[39msort(reverse\u001b[38;5;241m=\u001b[39m\u001b[38;5;28;01mTrue\u001b[39;00m)\n\u001b[0;32m      3\u001b[0m \u001b[38;5;28mlist\u001b[39m\n",
      "\u001b[1;31mTypeError\u001b[0m: unbound method list.sort() needs an argument"
     ]
    }
   ],
   "source": [
    "#sort using sort()\n",
    "list.sort(reverse=True)\n",
    "list"
   ]
  },
  {
   "cell_type": "code",
   "execution_count": 56,
   "id": "e2e8a9c3-5460-47f1-a4b9-a2cf669d4463",
   "metadata": {},
   "outputs": [
    {
     "data": {
      "text/plain": [
       "[1,\n",
       " 1,\n",
       " 2,\n",
       " 2,\n",
       " 3,\n",
       " 3,\n",
       " 4,\n",
       " 4,\n",
       " 5,\n",
       " 5,\n",
       " 10,\n",
       " 20,\n",
       " 30,\n",
       " 40,\n",
       " 50,\n",
       " 60,\n",
       " 80,\n",
       " 1,\n",
       " 2,\n",
       " 3,\n",
       " 4,\n",
       " 5,\n",
       " 1,\n",
       " 2,\n",
       " 3,\n",
       " 4,\n",
       " 5,\n",
       " 1,\n",
       " 2,\n",
       " 3,\n",
       " 4,\n",
       " 5,\n",
       " 1,\n",
       " 2,\n",
       " 3,\n",
       " 4,\n",
       " 5,\n",
       " 1,\n",
       " 2,\n",
       " 3,\n",
       " 4,\n",
       " 5]"
      ]
     },
     "execution_count": 56,
     "metadata": {},
     "output_type": "execute_result"
    }
   ],
   "source": [
    "list.extend(l1)\n",
    "list"
   ]
  },
  {
   "cell_type": "code",
   "execution_count": 2,
   "id": "652eca1c-de2c-44ca-9d12-79a523750e5f",
   "metadata": {},
   "outputs": [
    {
     "name": "stdin",
     "output_type": "stream",
     "text": [
      "Enter number of elements:  5\n",
      " 90\n",
      " 69\n",
      " 56\n",
      " 67\n",
      " 65\n"
     ]
    },
    {
     "name": "stdout",
     "output_type": "stream",
     "text": [
      "After inserting 100: [90, 69, 100, 56, 67, 65]\n",
      "After removing max value: [90, 69, 56, 67, 65]\n"
     ]
    }
   ],
   "source": [
    "\n",
    "l2 = []\n",
    "k = int(input(\"Enter number of elements: \"))\n",
    "\n",
    "for i in range(k):\n",
    "    l2.append(int(input()))\n",
    "\n",
    "mini = min(l2)\n",
    "ind = l2.index(mini)\n",
    "\n",
    "l2.insert(ind, 100)\n",
    "print(\"After inserting 100:\", l2)\n",
    "\n",
    "mx = max(l2)\n",
    "l2.remove(mx)\n",
    "print(\"After removing max value:\", l2)\n"
   ]
  },
  {
   "cell_type": "code",
   "execution_count": 16,
   "id": "82af5b9e-373c-4837-86c4-af79fff8d912",
   "metadata": {},
   "outputs": [
    {
     "data": {
      "text/plain": [
       "'y'"
      ]
     },
     "execution_count": 16,
     "metadata": {},
     "output_type": "execute_result"
    }
   ],
   "source": [
    "#string func\n",
    "s='abcJJDUysis'\n",
    "max(s)\n"
   ]
  },
  {
   "cell_type": "code",
   "execution_count": 17,
   "id": "ff88073b-9411-44b3-ac87-baa570a5abcf",
   "metadata": {},
   "outputs": [
    {
     "data": {
      "text/plain": [
       "'D'"
      ]
     },
     "execution_count": 17,
     "metadata": {},
     "output_type": "execute_result"
    }
   ],
   "source": [
    "min(s)"
   ]
  },
  {
   "cell_type": "code",
   "execution_count": 18,
   "id": "3b88d1fb-20f4-41c9-83f6-80394ac67fba",
   "metadata": {},
   "outputs": [
    {
     "data": {
      "text/plain": [
       "11"
      ]
     },
     "execution_count": 18,
     "metadata": {},
     "output_type": "execute_result"
    }
   ],
   "source": [
    "len(s)"
   ]
  },
  {
   "cell_type": "code",
   "execution_count": 19,
   "id": "368b23e4-9ea3-4fa9-b714-609987511ab4",
   "metadata": {},
   "outputs": [
    {
     "data": {
      "text/plain": [
       "['D', 'J', 'J', 'U', 'a', 'b', 'c', 'i', 's', 's', 'y']"
      ]
     },
     "execution_count": 19,
     "metadata": {},
     "output_type": "execute_result"
    }
   ],
   "source": [
    "sorted(s)"
   ]
  },
  {
   "cell_type": "code",
   "execution_count": 21,
   "id": "1894fd00-aba2-4819-8fde-a1fce2ff7715",
   "metadata": {},
   "outputs": [
    {
     "data": {
      "text/plain": [
       "'abcjjduysis'"
      ]
     },
     "execution_count": 21,
     "metadata": {},
     "output_type": "execute_result"
    }
   ],
   "source": [
    "s.lower()"
   ]
  },
  {
   "cell_type": "code",
   "execution_count": 22,
   "id": "024fb351-eb0d-4cde-a7ed-7624bcd55620",
   "metadata": {},
   "outputs": [
    {
     "data": {
      "text/plain": [
       "'ABCJJDUYSIS'"
      ]
     },
     "execution_count": 22,
     "metadata": {},
     "output_type": "execute_result"
    }
   ],
   "source": [
    "s.upper()"
   ]
  },
  {
   "cell_type": "code",
   "execution_count": 28,
   "id": "6a221364-7da8-41ea-bb5a-dd94025f2200",
   "metadata": {},
   "outputs": [
    {
     "name": "stdin",
     "output_type": "stream",
     "text": [
      " hii\n"
     ]
    },
    {
     "name": "stdout",
     "output_type": "stream",
     "text": [
      "3\n"
     ]
    }
   ],
   "source": [
    "#length of str without len fun\n",
    "s1=input()\n",
    "\n",
    "c=0\n",
    "for i in (s1):\n",
    "    c=c+1\n",
    "print(c)\n",
    "    "
   ]
  },
  {
   "cell_type": "code",
   "execution_count": 29,
   "id": "70b0cac7-2b9b-48fa-a955-1edd51de86ab",
   "metadata": {},
   "outputs": [
    {
     "data": {
      "text/plain": [
       "'ABCjjduYSIS'"
      ]
     },
     "execution_count": 29,
     "metadata": {},
     "output_type": "execute_result"
    }
   ],
   "source": [
    "#swapcase (swaps lower to upper and upper to lower\n",
    "s.swapcase()"
   ]
  },
  {
   "cell_type": "code",
   "execution_count": 30,
   "id": "65872b71-1761-45b6-aae3-137322b635e4",
   "metadata": {},
   "outputs": [
    {
     "data": {
      "text/plain": [
       "'Hello My Name Is Alluri Seetha Rama Raju'"
      ]
     },
     "execution_count": 30,
     "metadata": {},
     "output_type": "execute_result"
    }
   ],
   "source": [
    "#title = every word first letter will be changed to capital\n",
    "s2='hello my name is alluri seetha rama raju'\n",
    "s2.title()"
   ]
  },
  {
   "cell_type": "code",
   "execution_count": 32,
   "id": "503e80db-b57a-4107-b17f-1c25a049743d",
   "metadata": {},
   "outputs": [
    {
     "data": {
      "text/plain": [
       "False"
      ]
     },
     "execution_count": 32,
     "metadata": {},
     "output_type": "execute_result"
    }
   ],
   "source": [
    "s3='abs123'\n",
    "s3.isalpha()"
   ]
  },
  {
   "cell_type": "code",
   "execution_count": 33,
   "id": "586803ba-3781-4e33-8ea0-ed8e38fee248",
   "metadata": {},
   "outputs": [
    {
     "data": {
      "text/plain": [
       "False"
      ]
     },
     "execution_count": 33,
     "metadata": {},
     "output_type": "execute_result"
    }
   ],
   "source": [
    "s3.isdigit()"
   ]
  },
  {
   "cell_type": "code",
   "execution_count": 34,
   "id": "e943238e-e2bf-4d66-b00d-d18fb381c130",
   "metadata": {},
   "outputs": [
    {
     "data": {
      "text/plain": [
       "True"
      ]
     },
     "execution_count": 34,
     "metadata": {},
     "output_type": "execute_result"
    }
   ],
   "source": [
    "s3.isalnum()"
   ]
  },
  {
   "cell_type": "code",
   "execution_count": null,
   "id": "a5856233-5ea9-4e61-a761-9e94c458497d",
   "metadata": {},
   "outputs": [],
   "source": []
  }
 ],
 "metadata": {
  "kernelspec": {
   "display_name": "Python 3 (ipykernel)",
   "language": "python",
   "name": "python3"
  },
  "language_info": {
   "codemirror_mode": {
    "name": "ipython",
    "version": 3
   },
   "file_extension": ".py",
   "mimetype": "text/x-python",
   "name": "python",
   "nbconvert_exporter": "python",
   "pygments_lexer": "ipython3",
   "version": "3.12.4"
  }
 },
 "nbformat": 4,
 "nbformat_minor": 5
}
