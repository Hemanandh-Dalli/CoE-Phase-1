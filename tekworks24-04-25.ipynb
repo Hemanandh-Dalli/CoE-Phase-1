{
 "cells": [
  {
   "cell_type": "code",
   "execution_count": null,
   "id": "80a64d1f-f75b-4515-86e7-fdb5c1e7506a",
   "metadata": {},
   "outputs": [],
   "source": [
    "#find the number of digits\n",
    "num = 5632\n",
    "c=0\n",
    "while num!=0:\n",
    "    num=num//10\n",
    "    c=c+1\n",
    "print(c)"
   ]
  },
  {
   "cell_type": "code",
   "execution_count": null,
   "id": "c41dfbe9-0195-48f6-af90-b35128452433",
   "metadata": {},
   "outputs": [],
   "source": [
    "#no of odd and even digits in number\n",
    "\n",
    "n=int(input(\"Enter a number\"))\n",
    "even=0\n",
    "odd=0\n",
    "r=0\n",
    "while n>0:\n",
    "    r=n%10\n",
    "    if r%2==0:\n",
    "        even=even+1\n",
    "    else:\n",
    "        odd=odd+1\n",
    "    n=n//10\n",
    "print(\"Even count :\",even)\n",
    "print(\"odd count :\",odd)"
   ]
  },
  {
   "cell_type": "code",
   "execution_count": 1,
   "id": "7d8d2d7d-eadd-4325-ac01-09617c2603f4",
   "metadata": {},
   "outputs": [
    {
     "name": "stdin",
     "output_type": "stream",
     "text": [
      "Enter a number 7878\n"
     ]
    },
    {
     "name": "stdout",
     "output_type": "stream",
     "text": [
      "Sum of even numbers : 16\n",
      "Sum of odd numbers : 14\n"
     ]
    }
   ],
   "source": [
    "#sum of the even and odd numbers in a numbers\n",
    "n=int(input(\"Enter a number\"))\n",
    "even=0\n",
    "odd=0\n",
    "r=0\n",
    "s1=0\n",
    "s2=0\n",
    "while n>0:\n",
    "    r=n%10\n",
    "    if r%2==0:\n",
    "        s1=s1+r\n",
    "    else:\n",
    "        s2=s2+r\n",
    "    n=n//10\n",
    "print(\"Sum of even numbers :\",s1)\n",
    "print(\"Sum of odd numbers :\",s2)"
   ]
  },
  {
   "cell_type": "code",
   "execution_count": 2,
   "id": "3c9caab3-74e9-4d95-a419-90e517f7c3a5",
   "metadata": {},
   "outputs": [
    {
     "name": "stdout",
     "output_type": "stream",
     "text": [
      "2,3,5,7,11,13,17,19,23,29,31,37,41,43,47,53,59,61,67,71,73,79,83,89,97,"
     ]
    }
   ],
   "source": [
    "n=1\n",
    "while n<=100:\n",
    "    num =n\n",
    "    i=1\n",
    "    count=0\n",
    "    while i<=num//2:\n",
    "        if num%i==0:\n",
    "            count=count+1\n",
    "        i=i+1 \n",
    "    if count==1:\n",
    "        print(num,end=\",\")\n",
    "    n=n+1"
   ]
  },
  {
   "cell_type": "code",
   "execution_count": null,
   "id": "bf221141-5fcd-48ce-ad75-2eb21060f951",
   "metadata": {},
   "outputs": [],
   "source": [
    "\n",
    "\n"
   ]
  },
  {
   "cell_type": "code",
   "execution_count": 35,
   "id": "c5005b69-56ae-4733-a5e0-708a248d4875",
   "metadata": {},
   "outputs": [
    {
     "name": "stdout",
     "output_type": "stream",
     "text": [
      "5\n",
      "6\n",
      "1\n",
      "0\n"
     ]
    }
   ],
   "source": [
    "str=\"aeiou 675844\"\n",
    "d=0\n",
    "v=0\n",
    "a=0\n",
    "for i in str:\n",
    "    if i.isdigit():\n",
    "        d=d+1\n",
    "    elif i.isalpha():\n",
    "        a=a+1\n",
    "    elif i=='a' or 'e' or 'i' or 'o' or'u' and i=='A' or i=='E' or i=='I' or i=='O' or i=='U':\n",
    "        v=v+1\n",
    "    else:\n",
    "        sp=sp+1\n",
    "print(a)\n",
    "print(d)\n",
    "print(v)\n",
    "print(sp)"
   ]
  },
  {
   "cell_type": "code",
   "execution_count": null,
   "id": "a009b172-ab80-42d6-9fb9-2ae6d1aaad1e",
   "metadata": {},
   "outputs": [],
   "source": []
  },
  {
   "cell_type": "code",
   "execution_count": null,
   "id": "f625595b-31b9-4a5b-a0e9-f24384db1dbf",
   "metadata": {},
   "outputs": [],
   "source": []
  }
 ],
 "metadata": {
  "kernelspec": {
   "display_name": "Python 3 (ipykernel)",
   "language": "python",
   "name": "python3"
  },
  "language_info": {
   "codemirror_mode": {
    "name": "ipython",
    "version": 3
   },
   "file_extension": ".py",
   "mimetype": "text/x-python",
   "name": "python",
   "nbconvert_exporter": "python",
   "pygments_lexer": "ipython3",
   "version": "3.12.4"
  }
 },
 "nbformat": 4,
 "nbformat_minor": 5
}
