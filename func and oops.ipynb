{
 "cells": [
  {
   "cell_type": "code",
   "execution_count": 17,
   "id": "7400042c-ea2c-43a5-b240-1db1250b3cc4",
   "metadata": {},
   "outputs": [],
   "source": [
    "#functions\n",
    "#oops"
   ]
  },
  {
   "cell_type": "code",
   "execution_count": 2,
   "id": "34cb5421-007e-409f-9d7e-870c2d9d6abb",
   "metadata": {},
   "outputs": [
    {
     "name": "stdout",
     "output_type": "stream",
     "text": [
      "Area of rectangle: 680\n",
      "Cirsumference of rectangle: 108\n"
     ]
    }
   ],
   "source": [
    "#fun without arg and without return\n",
    "def area():\n",
    "    l=20;\n",
    "    b=34;\n",
    "    a=l*b;\n",
    "    print(\"Area of rectangle:\",a);\n",
    "    c=2*(l+b);\n",
    "    print(\"Cirsumference of rectangle:\",c);\n",
    "\n",
    "area();"
   ]
  },
  {
   "cell_type": "code",
   "execution_count": 4,
   "id": "058b2c60-c6ee-4034-80b7-19d85ca9e7f5",
   "metadata": {},
   "outputs": [
    {
     "name": "stdin",
     "output_type": "stream",
     "text": [
      " 5\n"
     ]
    },
    {
     "name": "stdout",
     "output_type": "stream",
     "text": [
      "120\n"
     ]
    }
   ],
   "source": [
    "#fun with arg and without return\n",
    "def fact(n):\n",
    "    f=1;\n",
    "    for i in range (1,n+1):\n",
    "        f=f*i;\n",
    "    print(f);\n",
    "n=int(input())\n",
    "fact(n)"
   ]
  },
  {
   "cell_type": "code",
   "execution_count": 13,
   "id": "a510c824-93d5-46e7-91f7-4e50eacb9ba3",
   "metadata": {},
   "outputs": [
    {
     "name": "stdin",
     "output_type": "stream",
     "text": [
      " 5\n"
     ]
    },
    {
     "name": "stdout",
     "output_type": "stream",
     "text": [
      "The Factorial is : 120\n"
     ]
    }
   ],
   "source": [
    "#fun with arg and with return\n",
    "def fac(t):\n",
    "    fa=1;\n",
    "    for k in range (1,t+1):\n",
    "        fa=fa*k;\n",
    "    return fa;\n",
    "    \n",
    "t=int(input())\n",
    "res=fac(t)\n",
    "print(\"The Factorial is :\",res)"
   ]
  },
  {
   "cell_type": "code",
   "execution_count": 16,
   "id": "55d7d5a2-515f-4333-b0eb-bc8e52244d32",
   "metadata": {},
   "outputs": [
    {
     "name": "stdin",
     "output_type": "stream",
     "text": [
      " 5\n"
     ]
    },
    {
     "name": "stdout",
     "output_type": "stream",
     "text": [
      "The Factorial is : 120\n"
     ]
    }
   ],
   "source": [
    "##fun without arg and with return\n",
    "def fa():\n",
    "    l=int(input())\n",
    "    facc=1;\n",
    "    for m in range (1,l+1):\n",
    "        facc=facc*m;\n",
    "    return facc;\n",
    "    \n",
    "resu=fa()\n",
    "print(\"The Factorial is :\",resu)"
   ]
  },
  {
   "cell_type": "code",
   "execution_count": 22,
   "id": "b1cdc876-85f2-4f9b-9ba9-b958229788aa",
   "metadata": {},
   "outputs": [
    {
     "name": "stdin",
     "output_type": "stream",
     "text": [
      "Enter your name Paari Muthuvel\n",
      "Enter your Id 1995\n",
      "Enter your salary 100000\n"
     ]
    },
    {
     "name": "stdout",
     "output_type": "stream",
     "text": [
      "Paari Muthuvel\n",
      "1995\n",
      "100000\n"
     ]
    }
   ],
   "source": [
    " class Emp:\n",
    "     def setempdata(self):\n",
    "         self.ename=input(\"Enter your name\")\n",
    "         self.eno=input(\"Enter your Id\")\n",
    "         self.es=input(\"Enter your salary\")\n",
    "     def disempdata(self):\n",
    "         print(self.ename)\n",
    "         print(self.eno)\n",
    "         print(self.es)\n",
    "\n",
    "e=Emp()\n",
    "e.setempdata()\n",
    "e.disempdata()\n",
    "\n",
    "\n",
    "         \n",
    "     "
   ]
  },
  {
   "cell_type": "code",
   "execution_count": 23,
   "id": "54ffc9fa-54b7-4e81-8ead-e763590ce7a4",
   "metadata": {},
   "outputs": [],
   "source": [
    "#constructor for initializing the data\n"
   ]
  },
  {
   "cell_type": "code",
   "execution_count": null,
   "id": "9b652e5b-874e-4e40-9fd2-f2088ce95beb",
   "metadata": {},
   "outputs": [],
   "source": []
  }
 ],
 "metadata": {
  "kernelspec": {
   "display_name": "Python 3 (ipykernel)",
   "language": "python",
   "name": "python3"
  },
  "language_info": {
   "codemirror_mode": {
    "name": "ipython",
    "version": 3
   },
   "file_extension": ".py",
   "mimetype": "text/x-python",
   "name": "python",
   "nbconvert_exporter": "python",
   "pygments_lexer": "ipython3",
   "version": "3.12.4"
  }
 },
 "nbformat": 4,
 "nbformat_minor": 5
}
