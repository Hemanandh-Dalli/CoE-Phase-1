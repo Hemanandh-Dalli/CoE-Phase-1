{
 "cells": [
  {
   "cell_type": "code",
   "execution_count": 1,
   "id": "2c68042a-336b-48d2-8f4f-acff6b7cc6dd",
   "metadata": {},
   "outputs": [
    {
     "name": "stdout",
     "output_type": "stream",
     "text": [
      "{1, 2, 3, 4, 5, 6, 7, 8}\n"
     ]
    }
   ],
   "source": [
    "#all set operations\n",
    "\n",
    "A={1,2,3,4,5}\n",
    "B={4,5,6,7,8}\n",
    "print(A|B)"
   ]
  },
  {
   "cell_type": "code",
   "execution_count": 2,
   "id": "48324f7a-455a-426e-8001-12b8c91800be",
   "metadata": {},
   "outputs": [
    {
     "data": {
      "text/plain": [
       "{1, 2, 3, 4, 5, 6, 7, 8}"
      ]
     },
     "execution_count": 2,
     "metadata": {},
     "output_type": "execute_result"
    }
   ],
   "source": [
    "#union\n",
    "A.union(B)"
   ]
  },
  {
   "cell_type": "code",
   "execution_count": 5,
   "id": "0addb08c-2b7c-4c23-b3a5-c85a87f371f2",
   "metadata": {},
   "outputs": [
    {
     "name": "stdout",
     "output_type": "stream",
     "text": [
      "{4, 5}\n"
     ]
    },
    {
     "data": {
      "text/plain": [
       "{4, 5}"
      ]
     },
     "execution_count": 5,
     "metadata": {},
     "output_type": "execute_result"
    }
   ],
   "source": [
    "#intersection\n",
    "print(A&B)\n",
    "A.intersection(B)"
   ]
  },
  {
   "cell_type": "code",
   "execution_count": 6,
   "id": "3bfe4e66-cabc-4d89-bf75-df1cd4b2ae8e",
   "metadata": {},
   "outputs": [
    {
     "name": "stdout",
     "output_type": "stream",
     "text": [
      "{1, 2, 3}\n",
      "{8, 6, 7}\n"
     ]
    }
   ],
   "source": [
    "#set difference only print the elements which are not common.\n",
    "print(A-B) #set A elements gets printed\n",
    "print(B-A)"
   ]
  },
  {
   "cell_type": "code",
   "execution_count": 7,
   "id": "84fe8144-9c36-4447-93ed-3ebac3d1cf45",
   "metadata": {},
   "outputs": [
    {
     "name": "stdout",
     "output_type": "stream",
     "text": [
      "{1, 2, 3, 6, 7, 8}\n"
     ]
    }
   ],
   "source": [
    "#symmetric difference the different values which are not similar\n",
    "print(A^B)\n"
   ]
  },
  {
   "cell_type": "code",
   "execution_count": 8,
   "id": "34c8f230-d7d5-418c-b8f9-45d680395bb6",
   "metadata": {},
   "outputs": [
    {
     "name": "stdout",
     "output_type": "stream",
     "text": [
      "The enrolled students for cs and it are : {'Alice', 'Bob', 'Eve', 'David', 'Charlie', 'Frank'}\n",
      "The enrolled students in both are : {'Bob', 'Charlie'}\n",
      "The enrolled students for cs but not it are : {'Alice', 'David'}\n",
      "The enrolled students for who are unique to one program are : {'Alice', 'David'} {'Frank', 'Eve'}\n"
     ]
    }
   ],
   "source": [
    "cs_students={\"Alice\",\"Bob\",\"Charlie\",\"David\"}\n",
    "it_students={\"Charlie\",\"Eve\",\"Frank\",\"Bob\"}\n",
    "print(\"The enrolled students for cs and it are :\",cs_students|it_students)\n",
    "print(\"The enrolled students in both are :\",cs_students&it_students)\n",
    "print(\"The enrolled students for cs but not it are :\",cs_students-it_students)\n",
    "print(\"The enrolled students for who are unique to one program are :\",cs_students-it_students,it_students-cs_students)"
   ]
  },
  {
   "cell_type": "code",
   "execution_count": 14,
   "id": "2d4566db-f587-4607-ba87-c2bb97e29628",
   "metadata": {},
   "outputs": [
    {
     "name": "stdout",
     "output_type": "stream",
     "text": [
      "{'Name': 'Arjun Sarkar', 'Age': 46, 'Class': 'HIT3'}\n"
     ]
    }
   ],
   "source": [
    "#python dict defined as key : value\n",
    "dict={'Name':'Arjun Sarkar','Age':46,'Class':'HIT3'}\n",
    "print(dict)"
   ]
  },
  {
   "cell_type": "code",
   "execution_count": 15,
   "id": "eb15c514-3ce3-48ac-b31a-b3ac6e15f670",
   "metadata": {},
   "outputs": [
    {
     "name": "stdout",
     "output_type": "stream",
     "text": [
      "Arjun Sarkar\n"
     ]
    }
   ],
   "source": [
    "print(dict['Name'])"
   ]
  },
  {
   "cell_type": "code",
   "execution_count": 16,
   "id": "35e70a1f-bfd5-4818-b406-20b9e9b40b75",
   "metadata": {},
   "outputs": [
    {
     "name": "stdout",
     "output_type": "stream",
     "text": [
      "{'Name': 'Arjun Sarkar', 'Age': 46, 'Class': 'HIT3', 'Case': 3}\n"
     ]
    }
   ],
   "source": [
    "#adding a new key value\n",
    "dict['Case']=3\n",
    "print(dict)"
   ]
  },
  {
   "cell_type": "code",
   "execution_count": null,
   "id": "0489807f-f9d3-4a65-9aca-cdba1b7a157b",
   "metadata": {},
   "outputs": [],
   "source": [
    "student_marks={\n",
    "    'Amit':85,\n",
    "    \"Sneha\":95,\n",
    "    \"Rahul\":78,\n",
    "    \"Diya\":90,\n",
    "    \"Mehul\":67\n",
    "}\n",
    "#print the names and marks in dict\n",
    "student_marks.items()\n",
    "student_marks['Tanvi']=88\n",
    "\n",
    "#update\n",
    "student_marks['Mehul']=72\n",
    "\n",
    "#remove\n",
    "student_marks.pop('Rahul')\n",
    "max(student_marks)\n",
    "student_marks.items()\n",
    "tot = sum(student_marks.values())\n",
    "print(\"Total marks:\", tot)"
   ]
  }
 ],
 "metadata": {
  "kernelspec": {
   "display_name": "Python 3 (ipykernel)",
   "language": "python",
   "name": "python3"
  },
  "language_info": {
   "codemirror_mode": {
    "name": "ipython",
    "version": 3
   },
   "file_extension": ".py",
   "mimetype": "text/x-python",
   "name": "python",
   "nbconvert_exporter": "python",
   "pygments_lexer": "ipython3",
   "version": "3.12.4"
  }
 },
 "nbformat": 4,
 "nbformat_minor": 5
}
