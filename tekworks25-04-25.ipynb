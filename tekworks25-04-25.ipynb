{
 "cells": [
  {
   "cell_type": "code",
   "execution_count": 3,
   "id": "87b20321-ab0e-4f84-bd29-22e3a1942dfb",
   "metadata": {},
   "outputs": [
    {
     "name": "stdin",
     "output_type": "stream",
     "text": [
      "Enter the Name: ramu\n"
     ]
    },
    {
     "name": "stdout",
     "output_type": "stream",
     "text": [
      "name is valid\n"
     ]
    },
    {
     "name": "stdin",
     "output_type": "stream",
     "text": [
      "enter mobile no 9391160827\n"
     ]
    },
    {
     "name": "stdout",
     "output_type": "stream",
     "text": [
      "number valid\n"
     ]
    },
    {
     "name": "stdin",
     "output_type": "stream",
     "text": [
      "enter your email nandu123@gmail.com\n"
     ]
    },
    {
     "name": "stdout",
     "output_type": "stream",
     "text": [
      "valid\n"
     ]
    },
    {
     "name": "stdin",
     "output_type": "stream",
     "text": [
      "Enter password: Ram1233@\n"
     ]
    },
    {
     "name": "stdout",
     "output_type": "stream",
     "text": [
      "Password is not valid\n"
     ]
    }
   ],
   "source": [
    "name=input(\"Enter the Name:\")\n",
    "if name.isalpha() and len(name)>=3 and len(name)<=15:\n",
    "    print(\"name is valid\")\n",
    "else:\n",
    "    print(\"name invalid\")\n",
    "mob=(input(\"enter mobile no\"))\n",
    "if mob.isdigit() and len(mob)==10 :\n",
    "    if mob.startswith('9')or mob.startswith('8') or mob.startswith('7')or mob.startswith('6'):\n",
    "        print(\"number valid\")\n",
    "    else:\n",
    "        print(\"invalid number\")\n",
    "email=input(\"enter your email\")\n",
    "if email[0].isalnum():\n",
    "    if len(email)>=5 and len(email)<=20:\n",
    "        if email.endswith('.com') or email.endswith('.in'):\n",
    "            print(\"valid\")\n",
    "        else:\n",
    "            print(\"invalid\")\n",
    "    else:\n",
    "        print(\"enter email in between 5 to 20 characters\")\n",
    "else:\n",
    "    print(\"email should start with alpha and numeric\")\n",
    "password=input(\"Enter password:\")\n",
    "if len(password) <= 8 and password.isalnum() and any(c.isupper() for c in password) and any(c.islower() for c in password):\n",
    "    print(\"Password is valid\")\n",
    "else:\n",
    "    print(\"Password is not valid\")\n"
   ]
  },
  {
   "cell_type": "code",
   "execution_count": 4,
   "id": "0e9ac3d7-726b-4b9d-bd33-184c1eb7e30c",
   "metadata": {},
   "outputs": [
    {
     "name": "stdout",
     "output_type": "stream",
     "text": [
      "\n",
      "=== Welcome to Python Simple ATM ===\n",
      "1. Set PIN\n",
      "2. Enter PIN\n",
      "3. Exit\n"
     ]
    },
    {
     "name": "stdin",
     "output_type": "stream",
     "text": [
      "Choose an option:  1\n"
     ]
    },
    {
     "name": "stdout",
     "output_type": "stream",
     "text": [
      "PIN is already set.\n",
      "\n",
      "=== Welcome to Python Simple ATM ===\n",
      "1. Set PIN\n",
      "2. Enter PIN\n",
      "3. Exit\n"
     ]
    },
    {
     "name": "stdin",
     "output_type": "stream",
     "text": [
      "Choose an option:  1122\n"
     ]
    },
    {
     "name": "stdout",
     "output_type": "stream",
     "text": [
      "Invalid option. Try again.\n",
      "\n",
      "=== Welcome to Python Simple ATM ===\n",
      "1. Set PIN\n",
      "2. Enter PIN\n",
      "3. Exit\n"
     ]
    },
    {
     "name": "stdin",
     "output_type": "stream",
     "text": [
      "Choose an option:  2\n",
      "Enter your pin:  1122\n"
     ]
    },
    {
     "name": "stdout",
     "output_type": "stream",
     "text": [
      "Wrong PIN. You have 2 tries left.\n"
     ]
    },
    {
     "name": "stdin",
     "output_type": "stream",
     "text": [
      "Enter your pin:  1\n"
     ]
    },
    {
     "name": "stdout",
     "output_type": "stream",
     "text": [
      "Wrong PIN. You have 1 tries left.\n"
     ]
    },
    {
     "name": "stdin",
     "output_type": "stream",
     "text": [
      "Enter your pin:  1111\n"
     ]
    },
    {
     "name": "stdout",
     "output_type": "stream",
     "text": [
      "Wrong PIN. You have 0 tries left.\n",
      "Too many wrong tries. Exiting...\n",
      "\n",
      "=== Welcome to Python Simple ATM ===\n",
      "1. Set PIN\n",
      "2. Enter PIN\n",
      "3. Exit\n"
     ]
    },
    {
     "name": "stdin",
     "output_type": "stream",
     "text": [
      "Choose an option:  1\n"
     ]
    },
    {
     "name": "stdout",
     "output_type": "stream",
     "text": [
      "PIN is already set.\n",
      "\n",
      "=== Welcome to Python Simple ATM ===\n",
      "1. Set PIN\n",
      "2. Enter PIN\n",
      "3. Exit\n"
     ]
    },
    {
     "name": "stdin",
     "output_type": "stream",
     "text": [
      "Choose an option:  1\n"
     ]
    },
    {
     "name": "stdout",
     "output_type": "stream",
     "text": [
      "PIN is already set.\n",
      "\n",
      "=== Welcome to Python Simple ATM ===\n",
      "1. Set PIN\n",
      "2. Enter PIN\n",
      "3. Exit\n"
     ]
    },
    {
     "name": "stdin",
     "output_type": "stream",
     "text": [
      "Choose an option:  2\n",
      "Enter your pin:  1234\n"
     ]
    },
    {
     "name": "stdout",
     "output_type": "stream",
     "text": [
      "Correct PIN.\n",
      "\n",
      "Select an option:\n",
      "1. Withdraw\n",
      "2. Deposit\n",
      "3. Check Balance\n",
      "4. Exit\n"
     ]
    },
    {
     "name": "stdin",
     "output_type": "stream",
     "text": [
      "Your choice:  4\n"
     ]
    },
    {
     "name": "stdout",
     "output_type": "stream",
     "text": [
      "Exiting to main menu...\n",
      "\n",
      "=== Welcome to Python Simple ATM ===\n",
      "1. Set PIN\n",
      "2. Enter PIN\n",
      "3. Exit\n"
     ]
    },
    {
     "name": "stdin",
     "output_type": "stream",
     "text": [
      "Choose an option:  3\n"
     ]
    },
    {
     "name": "stdout",
     "output_type": "stream",
     "text": [
      "Thank you for using the ATM. Bye.\n"
     ]
    }
   ],
   "source": [
    "### pin = \"\"\n",
    "balance = 10000  \n",
    "def set_pin():\n",
    "    global pin\n",
    "    if pin != \"\":\n",
    "        print(\"PIN is already set.\")\n",
    "        return\n",
    "    pin_input = input(\"Set 4-digit PIN: \")\n",
    "    if len(pin_input) == 4 and pin_input.isdigit():\n",
    "        pin = pin_input\n",
    "        print(\"PIN set successfully.\")\n",
    "    else:\n",
    "        print(\"Please enter a valid 4-digit number.\")\n",
    "        set_pin()\n",
    "\n",
    "def check_pin():\n",
    "    tries = 3\n",
    "    while tries > 0:\n",
    "        entered = input(\"Enter your pin: \")\n",
    "        if entered == pin:\n",
    "            print(\"Correct PIN.\")\n",
    "            show_options()\n",
    "            return\n",
    "        else:\n",
    "            tries -= 1\n",
    "            print(f\"Wrong PIN. You have {tries} tries left.\")\n",
    "    print(\"Too many wrong tries. Exiting...\")\n",
    "    exit()\n",
    "\n",
    "def withdraw():\n",
    "    global balance\n",
    "    amount = input(\"Enter amount to withdraw: ₹\")\n",
    "    if amount.isdigit():\n",
    "        amount = int(amount)\n",
    "        if amount % 100 != 0:\n",
    "            print(\"Only ₹100 multiples allowed.\")\n",
    "        elif amount > 20000:\n",
    "            print(\"Maximum withdrawal limit per transaction is ₹20,000.\")\n",
    "        elif amount > balance:\n",
    "            print(\"Not enough money in the account.\")\n",
    "        else:\n",
    "            balance -= amount\n",
    "            print(f\"₹{amount} withdrawn.\")\n",
    "            print(f\"Balance: ₹{balance}\")\n",
    "    else:\n",
    "        print(\"Invalid amount entered.\")\n",
    "\n",
    "def deposit():\n",
    "    global balance\n",
    "    amount = input(\"Enter amount to deposit: ₹\")\n",
    "    if amount.isdigit():\n",
    "        amount = int(amount)\n",
    "        if amount % 100 != 0:\n",
    "            print(\"Only ₹100 multiples allowed.\")\n",
    "        balance += amount\n",
    "        print(f\"₹{amount} deposited.\")\n",
    "        print(f\"Balance: ₹{balance}\")\n",
    "    else:\n",
    "        print(\"Invalid amount entered.\")\n",
    "\n",
    "def show_balance():\n",
    "    print(f\"Your current balance is ₹{balance}\")\n",
    "\n",
    "def show_options():\n",
    "    while True:\n",
    "        print(\"\\nSelect an option:\")\n",
    "        print(\"1. Withdraw\")\n",
    "        print(\"2. Deposit\")\n",
    "        print(\"3. Check Balance\")\n",
    "        print(\"4. Exit\")\n",
    "        choice = input(\"Your choice: \")\n",
    "\n",
    "        if choice == '1':\n",
    "            withdraw()\n",
    "        elif choice == '2':\n",
    "            deposit()\n",
    "        elif choice == '3':\n",
    "            show_balance()\n",
    "        elif choice == '4':\n",
    "            print(\"Exiting to main menu...\")\n",
    "            break\n",
    "        else:\n",
    "            print(\"Please choose a valid option.\")\n",
    "\n",
    "def main():\n",
    "    while True:\n",
    "        print(\"\\n=== Welcome to Python Simple ATM ===\")\n",
    "        print(\"1. Set PIN\")\n",
    "        print(\"2. Enter PIN\")\n",
    "        print(\"3. Exit\")\n",
    "        option = input(\"Choose an option: \")\n",
    "\n",
    "        if option == '1':\n",
    "            set_pin()\n",
    "        elif option == '2':\n",
    "            if pin == \"\":\n",
    "                print(\"Please set your PIN first ❗\")\n",
    "            else:\n",
    "                check_pin()\n",
    "        elif option == '3':\n",
    "            print(\"Thank you for using the ATM. Bye.\")\n",
    "            break\n",
    "        else:\n",
    "            print(\"Invalid option. Try again.\")\n",
    "\n",
    "main()\n"
   ]
  },
  {
   "cell_type": "code",
   "execution_count": null,
   "id": "8d280012-bc83-4cd4-8820-43081c2ca9cf",
   "metadata": {},
   "outputs": [],
   "source": []
  }
 ],
 "metadata": {
  "kernelspec": {
   "display_name": "Python 3 (ipykernel)",
   "language": "python",
   "name": "python3"
  },
  "language_info": {
   "codemirror_mode": {
    "name": "ipython",
    "version": 3
   },
   "file_extension": ".py",
   "mimetype": "text/x-python",
   "name": "python",
   "nbconvert_exporter": "python",
   "pygments_lexer": "ipython3",
   "version": "3.12.4"
  }
 },
 "nbformat": 4,
 "nbformat_minor": 5
}
